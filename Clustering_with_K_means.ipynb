{
  "nbformat": 4,
  "nbformat_minor": 0,
  "metadata": {
    "colab": {
      "name": "Clustering with K-means.ipynb",
      "provenance": [],
      "collapsed_sections": [],
      "toc_visible": true,
      "authorship_tag": "ABX9TyPeOji6BjOhBbTjw4u7N4k8",
      "include_colab_link": true
    },
    "kernelspec": {
      "name": "python3",
      "display_name": "Python 3"
    }
  },
  "cells": [
    {
      "cell_type": "markdown",
      "metadata": {
        "id": "view-in-github",
        "colab_type": "text"
      },
      "source": [
        "<a href=\"https://colab.research.google.com/github/Hamzandj/Open-Week-3.0/blob/main/Clustering_with_K_means.ipynb\" target=\"_parent\"><img src=\"https://colab.research.google.com/assets/colab-badge.svg\" alt=\"Open In Colab\"/></a>"
      ]
    },
    {
      "cell_type": "markdown",
      "metadata": {
        "id": "jRZRzfF0Ane1"
      },
      "source": [
        "**OPEN WEEK 3.0 : Clustering in a nutshell**\r\n",
        "\r\n",
        "In this example was made for a short presentation during the Open Week 3.0 event organized by [Open Coding Club](https://www.facebook.com/OpenCodingClub). The dataset and the code used in this project are inspired from [this project](https://www.kaggle.com/roshansharma/mall-customers-clustering-analysis).\r\n",
        "\r\n",
        "Let's import the main dependancies"
      ]
    },
    {
      "cell_type": "code",
      "metadata": {
        "colab": {
          "base_uri": "https://localhost:8080/",
          "height": 17
        },
        "id": "iDSZD-xyB5jt",
        "outputId": "5dabdc4f-9546-41a9-d926-5a482b16cb2c"
      },
      "source": [
        "# for basic mathematics operation \r\n",
        "import numpy as np\r\n",
        "import pandas as pd\r\n",
        "from pandas import plotting\r\n",
        "\r\n",
        "# for visualizations\r\n",
        "import matplotlib.pyplot as plt\r\n",
        "import seaborn as sns\r\n",
        "plt.style.use('fivethirtyeight')\r\n",
        "\r\n",
        "# for interactive visualizations\r\n",
        "import plotly.offline as py\r\n",
        "from plotly.offline import init_notebook_mode, iplot\r\n",
        "import plotly.graph_objs as go\r\n",
        "from plotly import tools\r\n",
        "init_notebook_mode(connected = True)\r\n",
        "import plotly.figure_factory as ff\r\n",
        "\r\n",
        "# for path\r\n",
        "import os\r\n",
        "\r\n",
        "#for clustering\r\n",
        "from sklearn.cluster import KMeans\r\n"
      ],
      "execution_count": 11,
      "outputs": [
        {
          "output_type": "display_data",
          "data": {
            "text/html": [
              "        <script type=\"text/javascript\">\n",
              "        window.PlotlyConfig = {MathJaxConfig: 'local'};\n",
              "        if (window.MathJax) {MathJax.Hub.Config({SVG: {font: \"STIX-Web\"}});}\n",
              "        if (typeof require !== 'undefined') {\n",
              "        require.undef(\"plotly\");\n",
              "        requirejs.config({\n",
              "            paths: {\n",
              "                'plotly': ['https://cdn.plot.ly/plotly-latest.min']\n",
              "            }\n",
              "        });\n",
              "        require(['plotly'], function(Plotly) {\n",
              "            window._Plotly = Plotly;\n",
              "        });\n",
              "        }\n",
              "        </script>\n",
              "        "
            ]
          },
          "metadata": {
            "tags": []
          }
        }
      ]
    },
    {
      "cell_type": "markdown",
      "metadata": {
        "id": "gZJ7nxZACRmi"
      },
      "source": [
        "As you can see, we are using the most known python library used for machine learning, wich is scikit-learn`sklearn`. This last contains alot of machine learning algorithms, we are using here K-mean.\r\n",
        "\r\n",
        "To test our parogram we need first to load the dataset. We use the `Pandas` Library to load and manipuate the data. \r\n",
        "\r\n",
        "Let's load the data  and get a closer look at it :"
      ]
    },
    {
      "cell_type": "code",
      "metadata": {
        "id": "bO-PfUXRDoiS"
      },
      "source": [
        "\r\n",
        "# importing the dataset\r\n",
        "data = pd.read_csv('./sample_data/Mall_Customers.csv')\r\n",
        "\r\n",
        "import warnings\r\n",
        "warnings.filterwarnings('ignore')\r\n",
        "\r\n",
        "#Plotting the distribution of a given fields\r\n",
        "plt.rcParams['figure.figsize'] = (18, 8)\r\n",
        "\r\n",
        "selected_field = 'Annual Income (k$)'\r\n",
        "plt.subplot(1, 2, 1)\r\n",
        "sns.set(style = 'whitegrid')\r\n",
        "sns.distplot(data[selected_field])\r\n",
        "plt.title('Distribution of '+selected_field, fontsize = 20)\r\n",
        "plt.xlabel('Range of '+selected_field)\r\n",
        "plt.ylabel('Count')\r\n",
        "\r\n",
        "selected_field = 'Spending Score (1-100)'\r\n",
        "plt.subplot(1, 2, 2)\r\n",
        "sns.set(style = 'whitegrid')\r\n",
        "sns.distplot(data[selected_field], color = 'red')\r\n",
        "plt.title('Distribution of '+selected_field, fontsize = 20)\r\n",
        "plt.xlabel('Range of '+selected_field)\r\n",
        "plt.ylabel('Count')\r\n",
        "plt.show()"
      ],
      "execution_count": null,
      "outputs": []
    },
    {
      "cell_type": "markdown",
      "metadata": {
        "id": "OVJND5DPox08"
      },
      "source": [
        "Let's procede now to a first combination. It's highly probzble that the spending score can depend on the income of the costummer, we're going to plot those two fields and try to see how this relation is present in the dataset."
      ]
    },
    {
      "cell_type": "code",
      "metadata": {
        "id": "e9QJhY47F-Iy"
      },
      "source": [
        "#Plotting\r\n",
        "data.plot.scatter(x='Annual Income (k$)',y='Spending Score (1-100)')\r\n",
        "\r\n",
        "plt.show()"
      ],
      "execution_count": null,
      "outputs": []
    },
    {
      "cell_type": "markdown",
      "metadata": {
        "id": "-L_kFR3dpL-L"
      },
      "source": [
        "As you can see, we can distinguish 5 difrent profils of costumers, of course the example we're using is an easy one, so we can procede to an initial clustering with K-means on those two fields to have the clusters depending on the anual income of customers.\r\n",
        "\r\n",
        "To do that we call the `Kmeans` loaded earlier, this last takes many parameters, we're going to talk about some of them :\r\n",
        "\r\n",
        "\r\n",
        "*   **n_clusters** : number of clusters we want (k)\r\n",
        "*   **init** : the algorithm technic used to initialize the centroids\r\n",
        "*   **max_iter** : the maximum iterations to do before terminating the algorithm if the found centroids are not moving (stopping condition) \r\n",
        "\r\n",
        "Once we configure the K-means model, we will execute it on our dataset by calling `kmeans.fit.predict()`\r\n"
      ]
    },
    {
      "cell_type": "code",
      "metadata": {
        "id": "A4yjgszhoQ4R"
      },
      "source": [
        "#Initialize the K-means model\r\n",
        "kmeans = KMeans(n_clusters = 5, init = 'k-means++', max_iter = 300, n_init = 10,\r\n",
        "                random_state = 0)\r\n",
        "\r\n",
        "#X will contain two columns : Annual income and spending score\r\n",
        "annual_dataset = data.iloc[:, [2, 3]].values\r\n",
        "\r\n",
        "#Clusters Centroids with Kmeans\r\n",
        "labels = kmeans.fit_predict(annual_dataset)\r\n",
        "\r\n",
        "#Plotting the result\r\n",
        "plt.rcParams['figure.figsize'] = (10, 10)\r\n",
        "plt.title('Cluster of Annual Income', fontsize = 30)\r\n",
        "plt.scatter(annual_dataset[:, 0], annual_dataset[:, 1], s = 50, c=labels, cmap = 'viridis')\r\n",
        "plt.style.use('fivethirtyeight')\r\n",
        "plt.xlabel('Annual Income (k$)')\r\n",
        "plt.ylabel('Spending Score (1-100)')\r\n",
        "plt.grid()\r\n",
        "plt.show()"
      ],
      "execution_count": null,
      "outputs": []
    },
    {
      "cell_type": "markdown",
      "metadata": {
        "id": "ujPuZ1hTtI_7"
      },
      "source": [
        "After finding the clusters, let's try to analyse and add legends to each clusters so we can understand each costumer profil (cluster)."
      ]
    },
    {
      "cell_type": "code",
      "metadata": {
        "id": "bvZbV5lvevr4"
      },
      "source": [
        "#Adding labels to clusters\r\n",
        "plt.scatter(annual_dataset[labels == 0, 0], annual_dataset[labels == 0, 1], s = 100, c = 'pink', label = 'miser')\r\n",
        "plt.scatter(annual_dataset[labels == 1, 0], annual_dataset[labels == 1, 1], s = 100, c = 'yellow', label = 'general')\r\n",
        "plt.scatter(annual_dataset[labels == 2, 0], annual_dataset[labels == 2, 1], s = 100, c = 'cyan', label = 'target')\r\n",
        "plt.scatter(annual_dataset[labels == 3, 0], annual_dataset[labels == 3, 1], s = 100, c = 'magenta', label = 'spendthrift')\r\n",
        "plt.scatter(annual_dataset[labels == 4, 0], annual_dataset[labels == 4, 1], s = 100, c = 'orange', label = 'careful')\r\n",
        "plt.scatter(kmeans.cluster_centers_[:,0], kmeans.cluster_centers_[:, 1], \r\n",
        "            s = 150, c = 'black' , label = 'centeroid', marker='x')\r\n",
        "\r\n",
        "plt.style.use('fivethirtyeight')\r\n",
        "plt.title('K Means Clustering', fontsize = 20)\r\n",
        "plt.xlabel('Age')\r\n",
        "plt.ylabel('Spending Score')\r\n",
        "plt.legend()\r\n",
        "plt.grid()\r\n",
        "plt.show()"
      ],
      "execution_count": null,
      "outputs": []
    },
    {
      "cell_type": "markdown",
      "metadata": {
        "id": "fLf5wiCNtbPR"
      },
      "source": [
        "We can do another try by analysing the age field and see waht can we get, we procede as we did with the annual income field."
      ]
    },
    {
      "cell_type": "code",
      "metadata": {
        "id": "dkV2kNilgbcU"
      },
      "source": [
        "kmeans = KMeans(n_clusters = 4, init = 'k-means++', max_iter = 300, n_init = 10, random_state = 0)\r\n",
        "\r\n",
        "#Dataset containing the age and spending record\r\n",
        "age_dataset = data.iloc[:, [1, 3]].values\r\n",
        "\r\n",
        "#Proceding to the clustering\r\n",
        "labels = kmeans.fit_predict(age_dataset)\r\n",
        "\r\n",
        "#Plotting result\r\n",
        "plt.rcParams['figure.figsize'] = (10, 10)\r\n",
        "plt.title('Cluster of Ages', fontsize = 30)\r\n",
        "plt.scatter(age_dataset[:, 0], age_dataset[:, 1], s = 50, c=labels, cmap = 'viridis')\r\n",
        "plt.style.use('fivethirtyeight')\r\n",
        "plt.xlabel('Age')\r\n",
        "plt.ylabel('Spending Score (1-100)')\r\n",
        "plt.grid()\r\n",
        "plt.show()"
      ],
      "execution_count": null,
      "outputs": []
    },
    {
      "cell_type": "markdown",
      "metadata": {
        "id": "LRLkNrNBuEI8"
      },
      "source": [
        "Let's add adequat legends to each cluster."
      ]
    },
    {
      "cell_type": "code",
      "metadata": {
        "id": "nT9zCW-tiSRS"
      },
      "source": [
        "plt.rcParams['figure.figsize'] = (10, 10)\r\n",
        "plt.title('Clusters of Ages', fontsize = 30)\r\n",
        "\r\n",
        "plt.scatter(age_dataset[labels == 0, 0], age_dataset[labels == 0, 1], s = 100, c = 'pink', label = 'Target Costumer (Young)' )\r\n",
        "plt.scatter(age_dataset[labels == 1, 0], age_dataset[labels == 1, 1], s = 100, c = 'orange', label = 'Priority Customers')\r\n",
        "plt.scatter(age_dataset[labels == 2, 0], age_dataset[labels == 2, 1], s = 100, c = 'lightgreen', label = 'Usual costumers')\r\n",
        "plt.scatter(age_dataset[labels == 3, 0], age_dataset[labels == 3, 1], s = 100, c = 'red', label = 'Target Customers(Old)')\r\n",
        "plt.scatter(kmeans.cluster_centers_[:, 0], kmeans.cluster_centers_[:, 1], s = 100, c = 'black', marker='x')\r\n",
        "\r\n",
        "plt.style.use('fivethirtyeight')\r\n",
        "plt.xlabel('Age')\r\n",
        "plt.ylabel('Spending Score (1-100)')\r\n",
        "plt.legend()\r\n",
        "plt.grid()\r\n",
        "plt.show()"
      ],
      "execution_count": null,
      "outputs": []
    }
  ]
}